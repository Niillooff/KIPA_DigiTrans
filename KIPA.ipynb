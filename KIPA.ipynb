{
 "cells": [
  {
   "cell_type": "code",
   "execution_count": 78,
   "id": "71304b38-c63e-4510-8743-ff342d0597fc",
   "metadata": {},
   "outputs": [],
   "source": [
    "import pandas as pd\n",
    "import numpy as np\n",
    "import matplotlib.pyplot as plt\n",
    "import plotly"
   ]
  },
  {
   "cell_type": "code",
   "execution_count": 41,
   "id": "0c2653fd-3b72-4ac0-8ec4-9e6653c53fc7",
   "metadata": {},
   "outputs": [
    {
     "data": {
      "text/html": [
       "<div>\n",
       "<style scoped>\n",
       "    .dataframe tbody tr th:only-of-type {\n",
       "        vertical-align: middle;\n",
       "    }\n",
       "\n",
       "    .dataframe tbody tr th {\n",
       "        vertical-align: top;\n",
       "    }\n",
       "\n",
       "    .dataframe thead th {\n",
       "        text-align: right;\n",
       "    }\n",
       "</style>\n",
       "<table border=\"1\" class=\"dataframe\">\n",
       "  <thead>\n",
       "    <tr style=\"text-align: right;\">\n",
       "      <th></th>\n",
       "      <th>week</th>\n",
       "      <th>wPreis</th>\n",
       "      <th>Plz</th>\n",
       "      <th>full</th>\n",
       "      <th>date</th>\n",
       "    </tr>\n",
       "  </thead>\n",
       "  <tbody>\n",
       "    <tr>\n",
       "      <th>0</th>\n",
       "      <td>2020-37</td>\n",
       "      <td>-37.519318</td>\n",
       "      <td>['25', '24']</td>\n",
       "      <td>A2 -  geschreddert</td>\n",
       "      <td>2020-09-14</td>\n",
       "    </tr>\n",
       "    <tr>\n",
       "      <th>1</th>\n",
       "      <td>2020-39</td>\n",
       "      <td>-40.000000</td>\n",
       "      <td>['25', '24']</td>\n",
       "      <td>A2 -  geschreddert</td>\n",
       "      <td>2020-09-28</td>\n",
       "    </tr>\n",
       "    <tr>\n",
       "      <th>2</th>\n",
       "      <td>2020-41</td>\n",
       "      <td>-34.853543</td>\n",
       "      <td>['25', '24']</td>\n",
       "      <td>A2 -  geschreddert</td>\n",
       "      <td>2020-10-12</td>\n",
       "    </tr>\n",
       "    <tr>\n",
       "      <th>3</th>\n",
       "      <td>2020-42</td>\n",
       "      <td>-27.560202</td>\n",
       "      <td>['25', '24']</td>\n",
       "      <td>A2 -  geschreddert</td>\n",
       "      <td>2020-10-19</td>\n",
       "    </tr>\n",
       "    <tr>\n",
       "      <th>4</th>\n",
       "      <td>2020-43</td>\n",
       "      <td>-31.937780</td>\n",
       "      <td>['25', '24']</td>\n",
       "      <td>A2 -  geschreddert</td>\n",
       "      <td>2020-10-26</td>\n",
       "    </tr>\n",
       "  </tbody>\n",
       "</table>\n",
       "</div>"
      ],
      "text/plain": [
       "      week     wPreis           Plz                full       date\n",
       "0  2020-37 -37.519318  ['25', '24']  A2 -  geschreddert 2020-09-14\n",
       "1  2020-39 -40.000000  ['25', '24']  A2 -  geschreddert 2020-09-28\n",
       "2  2020-41 -34.853543  ['25', '24']  A2 -  geschreddert 2020-10-12\n",
       "3  2020-42 -27.560202  ['25', '24']  A2 -  geschreddert 2020-10-19\n",
       "4  2020-43 -31.937780  ['25', '24']  A2 -  geschreddert 2020-10-26"
      ]
     },
     "execution_count": 41,
     "metadata": {},
     "output_type": "execute_result"
    }
   ],
   "source": [
    "df = pd.read_excel(r'D:/Semester 3/Digital Transformation of Organisation/df.xlsx')\n",
    "df.head()"
   ]
  },
  {
   "cell_type": "code",
   "execution_count": 79,
   "id": "511fff2b-085b-4613-8219-5e232f9282e0",
   "metadata": {},
   "outputs": [
    {
     "data": {
      "text/plain": [
       "3379"
      ]
     },
     "execution_count": 79,
     "metadata": {},
     "output_type": "execute_result"
    }
   ],
   "source": [
    "len(df)"
   ]
  },
  {
   "cell_type": "code",
   "execution_count": 80,
   "id": "00d96fa3-a2cc-4204-956a-d0b65d42a092",
   "metadata": {},
   "outputs": [
    {
     "data": {
      "text/plain": [
       "array([\"['25', '24']\", \"['26', '27', '28']\", \"['20', '21', '22', '23']\",\n",
       "       \"['29', '30', '31', '38', '39']\",\n",
       "       \"['10', '11', '12', '13', '14', '15', '16']\", \"['48', '49']\",\n",
       "       \"['1', '4', '6', '7', '8', '9']\",\n",
       "       \"['40', '41', '42', '44', '45', '46', '47']\",\n",
       "       \"['50', '51', '52', '53']\",\n",
       "       \"['80', '81', '82', '83', '84', '85', '93', '94']\"], dtype=object)"
      ]
     },
     "execution_count": 80,
     "metadata": {},
     "output_type": "execute_result"
    }
   ],
   "source": [
    "df['Plz'].unique()"
   ]
  },
  {
   "cell_type": "code",
   "execution_count": 81,
   "id": "b273e38a-0296-4545-9b73-d52e0fad90ff",
   "metadata": {},
   "outputs": [
    {
     "data": {
      "text/plain": [
       "array(['A2 -  geschreddert', 'A1 & A2 -  geschreddert',\n",
       "       'A2 & A3 -  geschreddert', 'A3 -  geschreddert'], dtype=object)"
      ]
     },
     "execution_count": 81,
     "metadata": {},
     "output_type": "execute_result"
    }
   ],
   "source": [
    "df['full'].unique()"
   ]
  },
  {
   "cell_type": "code",
   "execution_count": 82,
   "id": "b70da228-eb39-475f-acdf-c0754b628131",
   "metadata": {},
   "outputs": [
    {
     "data": {
      "text/html": [
       "<div>\n",
       "<style scoped>\n",
       "    .dataframe tbody tr th:only-of-type {\n",
       "        vertical-align: middle;\n",
       "    }\n",
       "\n",
       "    .dataframe tbody tr th {\n",
       "        vertical-align: top;\n",
       "    }\n",
       "\n",
       "    .dataframe thead th {\n",
       "        text-align: right;\n",
       "    }\n",
       "</style>\n",
       "<table border=\"1\" class=\"dataframe\">\n",
       "  <thead>\n",
       "    <tr style=\"text-align: right;\">\n",
       "      <th></th>\n",
       "      <th>week</th>\n",
       "      <th>wPreis</th>\n",
       "      <th>Plz</th>\n",
       "      <th>full</th>\n",
       "      <th>date</th>\n",
       "    </tr>\n",
       "  </thead>\n",
       "  <tbody>\n",
       "    <tr>\n",
       "      <th>0</th>\n",
       "      <td>2020-37</td>\n",
       "      <td>-37.519318</td>\n",
       "      <td>['25', '24']</td>\n",
       "      <td>A2 -  geschreddert</td>\n",
       "      <td>2020-09-14</td>\n",
       "    </tr>\n",
       "    <tr>\n",
       "      <th>1</th>\n",
       "      <td>2020-39</td>\n",
       "      <td>-40.000000</td>\n",
       "      <td>['25', '24']</td>\n",
       "      <td>A2 -  geschreddert</td>\n",
       "      <td>2020-09-28</td>\n",
       "    </tr>\n",
       "    <tr>\n",
       "      <th>2</th>\n",
       "      <td>2020-41</td>\n",
       "      <td>-34.853543</td>\n",
       "      <td>['25', '24']</td>\n",
       "      <td>A2 -  geschreddert</td>\n",
       "      <td>2020-10-12</td>\n",
       "    </tr>\n",
       "    <tr>\n",
       "      <th>3</th>\n",
       "      <td>2020-42</td>\n",
       "      <td>-27.560202</td>\n",
       "      <td>['25', '24']</td>\n",
       "      <td>A2 -  geschreddert</td>\n",
       "      <td>2020-10-19</td>\n",
       "    </tr>\n",
       "    <tr>\n",
       "      <th>4</th>\n",
       "      <td>2020-43</td>\n",
       "      <td>-31.937780</td>\n",
       "      <td>['25', '24']</td>\n",
       "      <td>A2 -  geschreddert</td>\n",
       "      <td>2020-10-26</td>\n",
       "    </tr>\n",
       "  </tbody>\n",
       "</table>\n",
       "</div>"
      ],
      "text/plain": [
       "      week     wPreis           Plz                full       date\n",
       "0  2020-37 -37.519318  ['25', '24']  A2 -  geschreddert 2020-09-14\n",
       "1  2020-39 -40.000000  ['25', '24']  A2 -  geschreddert 2020-09-28\n",
       "2  2020-41 -34.853543  ['25', '24']  A2 -  geschreddert 2020-10-12\n",
       "3  2020-42 -27.560202  ['25', '24']  A2 -  geschreddert 2020-10-19\n",
       "4  2020-43 -31.937780  ['25', '24']  A2 -  geschreddert 2020-10-26"
      ]
     },
     "execution_count": 82,
     "metadata": {},
     "output_type": "execute_result"
    }
   ],
   "source": [
    "TS1 = df[(df['Plz'] == \"['25', '24']\") & (df['full'] == 'A2 -  geschreddert')]\n",
    "TS1.head()"
   ]
  },
  {
   "cell_type": "code",
   "execution_count": 83,
   "id": "94e31801-ebcd-4132-b461-e77939ba6577",
   "metadata": {},
   "outputs": [
    {
     "name": "stdout",
     "output_type": "stream",
     "text": [
      "<class 'pandas.core.frame.DataFrame'>\n",
      "Index: 154 entries, 0 to 153\n",
      "Data columns (total 5 columns):\n",
      " #   Column  Non-Null Count  Dtype         \n",
      "---  ------  --------------  -----         \n",
      " 0   week    154 non-null    object        \n",
      " 1   wPreis  154 non-null    float64       \n",
      " 2   Plz     154 non-null    object        \n",
      " 3   full    154 non-null    object        \n",
      " 4   date    154 non-null    datetime64[ns]\n",
      "dtypes: datetime64[ns](1), float64(1), object(3)\n",
      "memory usage: 7.2+ KB\n"
     ]
    }
   ],
   "source": [
    "TS1.info()"
   ]
  },
  {
   "cell_type": "code",
   "execution_count": 84,
   "id": "e16bad0b-1e4f-408b-a892-ff351eca796c",
   "metadata": {},
   "outputs": [
    {
     "data": {
      "text/html": [
       "<div>\n",
       "<style scoped>\n",
       "    .dataframe tbody tr th:only-of-type {\n",
       "        vertical-align: middle;\n",
       "    }\n",
       "\n",
       "    .dataframe tbody tr th {\n",
       "        vertical-align: top;\n",
       "    }\n",
       "\n",
       "    .dataframe thead th {\n",
       "        text-align: right;\n",
       "    }\n",
       "</style>\n",
       "<table border=\"1\" class=\"dataframe\">\n",
       "  <thead>\n",
       "    <tr style=\"text-align: right;\">\n",
       "      <th></th>\n",
       "      <th>week</th>\n",
       "      <th>wPreis</th>\n",
       "      <th>Plz</th>\n",
       "      <th>full</th>\n",
       "      <th>date</th>\n",
       "    </tr>\n",
       "  </thead>\n",
       "  <tbody>\n",
       "    <tr>\n",
       "      <th>929</th>\n",
       "      <td>2020-37</td>\n",
       "      <td>-33.575183</td>\n",
       "      <td>['20', '21', '22', '23']</td>\n",
       "      <td>A1 &amp; A2 -  geschreddert</td>\n",
       "      <td>2020-09-14</td>\n",
       "    </tr>\n",
       "    <tr>\n",
       "      <th>930</th>\n",
       "      <td>2020-38</td>\n",
       "      <td>-30.469655</td>\n",
       "      <td>['20', '21', '22', '23']</td>\n",
       "      <td>A1 &amp; A2 -  geschreddert</td>\n",
       "      <td>2020-09-21</td>\n",
       "    </tr>\n",
       "    <tr>\n",
       "      <th>931</th>\n",
       "      <td>2020-39</td>\n",
       "      <td>-31.289522</td>\n",
       "      <td>['20', '21', '22', '23']</td>\n",
       "      <td>A1 &amp; A2 -  geschreddert</td>\n",
       "      <td>2020-09-28</td>\n",
       "    </tr>\n",
       "    <tr>\n",
       "      <th>932</th>\n",
       "      <td>2020-40</td>\n",
       "      <td>-30.616354</td>\n",
       "      <td>['20', '21', '22', '23']</td>\n",
       "      <td>A1 &amp; A2 -  geschreddert</td>\n",
       "      <td>2020-10-05</td>\n",
       "    </tr>\n",
       "    <tr>\n",
       "      <th>933</th>\n",
       "      <td>2020-41</td>\n",
       "      <td>-31.291948</td>\n",
       "      <td>['20', '21', '22', '23']</td>\n",
       "      <td>A1 &amp; A2 -  geschreddert</td>\n",
       "      <td>2020-10-12</td>\n",
       "    </tr>\n",
       "  </tbody>\n",
       "</table>\n",
       "</div>"
      ],
      "text/plain": [
       "        week     wPreis                       Plz                     full  \\\n",
       "929  2020-37 -33.575183  ['20', '21', '22', '23']  A1 & A2 -  geschreddert   \n",
       "930  2020-38 -30.469655  ['20', '21', '22', '23']  A1 & A2 -  geschreddert   \n",
       "931  2020-39 -31.289522  ['20', '21', '22', '23']  A1 & A2 -  geschreddert   \n",
       "932  2020-40 -30.616354  ['20', '21', '22', '23']  A1 & A2 -  geschreddert   \n",
       "933  2020-41 -31.291948  ['20', '21', '22', '23']  A1 & A2 -  geschreddert   \n",
       "\n",
       "          date  \n",
       "929 2020-09-14  \n",
       "930 2020-09-21  \n",
       "931 2020-09-28  \n",
       "932 2020-10-05  \n",
       "933 2020-10-12  "
      ]
     },
     "execution_count": 84,
     "metadata": {},
     "output_type": "execute_result"
    }
   ],
   "source": [
    "TS2 = df[(df['Plz'] == \"['20', '21', '22', '23']\") & (df['full'] == 'A1 & A2 -  geschreddert')]\n",
    "TS2.head()"
   ]
  },
  {
   "cell_type": "code",
   "execution_count": 85,
   "id": "2bbf4f2c-a938-4cdf-a288-41e9e6f42b39",
   "metadata": {},
   "outputs": [
    {
     "name": "stdout",
     "output_type": "stream",
     "text": [
      "<class 'pandas.core.frame.DataFrame'>\n",
      "Index: 156 entries, 929 to 1084\n",
      "Data columns (total 5 columns):\n",
      " #   Column  Non-Null Count  Dtype         \n",
      "---  ------  --------------  -----         \n",
      " 0   week    156 non-null    object        \n",
      " 1   wPreis  156 non-null    float64       \n",
      " 2   Plz     156 non-null    object        \n",
      " 3   full    156 non-null    object        \n",
      " 4   date    156 non-null    datetime64[ns]\n",
      "dtypes: datetime64[ns](1), float64(1), object(3)\n",
      "memory usage: 7.3+ KB\n"
     ]
    }
   ],
   "source": [
    "TS2.info()"
   ]
  },
  {
   "cell_type": "code",
   "execution_count": 88,
   "id": "6d88198c-f9cf-4edb-a5aa-e3d597663c04",
   "metadata": {},
   "outputs": [
    {
     "data": {
      "text/html": [
       "<div>\n",
       "<style scoped>\n",
       "    .dataframe tbody tr th:only-of-type {\n",
       "        vertical-align: middle;\n",
       "    }\n",
       "\n",
       "    .dataframe tbody tr th {\n",
       "        vertical-align: top;\n",
       "    }\n",
       "\n",
       "    .dataframe thead th {\n",
       "        text-align: right;\n",
       "    }\n",
       "</style>\n",
       "<table border=\"1\" class=\"dataframe\">\n",
       "  <thead>\n",
       "    <tr style=\"text-align: right;\">\n",
       "      <th></th>\n",
       "      <th>week</th>\n",
       "      <th>wPreis</th>\n",
       "      <th>Plz</th>\n",
       "      <th>full</th>\n",
       "      <th>date</th>\n",
       "    </tr>\n",
       "  </thead>\n",
       "  <tbody>\n",
       "    <tr>\n",
       "      <th>2004</th>\n",
       "      <td>2020-37</td>\n",
       "      <td>-29.244584</td>\n",
       "      <td>['48', '49']</td>\n",
       "      <td>A2 &amp; A3 -  geschreddert</td>\n",
       "      <td>2020-09-14</td>\n",
       "    </tr>\n",
       "    <tr>\n",
       "      <th>2005</th>\n",
       "      <td>2020-38</td>\n",
       "      <td>-27.878925</td>\n",
       "      <td>['48', '49']</td>\n",
       "      <td>A2 &amp; A3 -  geschreddert</td>\n",
       "      <td>2020-09-21</td>\n",
       "    </tr>\n",
       "    <tr>\n",
       "      <th>2006</th>\n",
       "      <td>2020-39</td>\n",
       "      <td>-25.077400</td>\n",
       "      <td>['48', '49']</td>\n",
       "      <td>A2 &amp; A3 -  geschreddert</td>\n",
       "      <td>2020-09-28</td>\n",
       "    </tr>\n",
       "    <tr>\n",
       "      <th>2007</th>\n",
       "      <td>2020-40</td>\n",
       "      <td>-25.663645</td>\n",
       "      <td>['48', '49']</td>\n",
       "      <td>A2 &amp; A3 -  geschreddert</td>\n",
       "      <td>2020-10-05</td>\n",
       "    </tr>\n",
       "    <tr>\n",
       "      <th>2008</th>\n",
       "      <td>2020-41</td>\n",
       "      <td>-24.004958</td>\n",
       "      <td>['48', '49']</td>\n",
       "      <td>A2 &amp; A3 -  geschreddert</td>\n",
       "      <td>2020-10-12</td>\n",
       "    </tr>\n",
       "  </tbody>\n",
       "</table>\n",
       "</div>"
      ],
      "text/plain": [
       "         week     wPreis           Plz                     full       date\n",
       "2004  2020-37 -29.244584  ['48', '49']  A2 & A3 -  geschreddert 2020-09-14\n",
       "2005  2020-38 -27.878925  ['48', '49']  A2 & A3 -  geschreddert 2020-09-21\n",
       "2006  2020-39 -25.077400  ['48', '49']  A2 & A3 -  geschreddert 2020-09-28\n",
       "2007  2020-40 -25.663645  ['48', '49']  A2 & A3 -  geschreddert 2020-10-05\n",
       "2008  2020-41 -24.004958  ['48', '49']  A2 & A3 -  geschreddert 2020-10-12"
      ]
     },
     "execution_count": 88,
     "metadata": {},
     "output_type": "execute_result"
    }
   ],
   "source": [
    "TS3 = df[(df['Plz'] == \"['48', '49']\") & (df['full'] == 'A2 & A3 -  geschreddert')]\n",
    "TS3.head()"
   ]
  },
  {
   "cell_type": "code",
   "execution_count": 89,
   "id": "91f7d488-0c2b-4691-8a47-7208f24be4fe",
   "metadata": {},
   "outputs": [
    {
     "name": "stdout",
     "output_type": "stream",
     "text": [
      "<class 'pandas.core.frame.DataFrame'>\n",
      "Index: 150 entries, 2004 to 2153\n",
      "Data columns (total 5 columns):\n",
      " #   Column  Non-Null Count  Dtype         \n",
      "---  ------  --------------  -----         \n",
      " 0   week    150 non-null    object        \n",
      " 1   wPreis  150 non-null    float64       \n",
      " 2   Plz     150 non-null    object        \n",
      " 3   full    150 non-null    object        \n",
      " 4   date    150 non-null    datetime64[ns]\n",
      "dtypes: datetime64[ns](1), float64(1), object(3)\n",
      "memory usage: 7.0+ KB\n"
     ]
    }
   ],
   "source": [
    "TS3.info()"
   ]
  },
  {
   "cell_type": "code",
   "execution_count": 90,
   "id": "e4fb203a-a4b1-497c-820f-10f8c2371a8f",
   "metadata": {},
   "outputs": [
    {
     "data": {
      "text/html": [
       "<div>\n",
       "<style scoped>\n",
       "    .dataframe tbody tr th:only-of-type {\n",
       "        vertical-align: middle;\n",
       "    }\n",
       "\n",
       "    .dataframe tbody tr th {\n",
       "        vertical-align: top;\n",
       "    }\n",
       "\n",
       "    .dataframe thead th {\n",
       "        text-align: right;\n",
       "    }\n",
       "</style>\n",
       "<table border=\"1\" class=\"dataframe\">\n",
       "  <thead>\n",
       "    <tr style=\"text-align: right;\">\n",
       "      <th></th>\n",
       "      <th>week</th>\n",
       "      <th>wPreis</th>\n",
       "      <th>Plz</th>\n",
       "      <th>full</th>\n",
       "      <th>date</th>\n",
       "    </tr>\n",
       "  </thead>\n",
       "  <tbody>\n",
       "    <tr>\n",
       "      <th>464</th>\n",
       "      <td>2020-37</td>\n",
       "      <td>-28.311162</td>\n",
       "      <td>['26', '27', '28']</td>\n",
       "      <td>A3 -  geschreddert</td>\n",
       "      <td>2020-09-14</td>\n",
       "    </tr>\n",
       "    <tr>\n",
       "      <th>465</th>\n",
       "      <td>2020-38</td>\n",
       "      <td>-31.281060</td>\n",
       "      <td>['26', '27', '28']</td>\n",
       "      <td>A3 -  geschreddert</td>\n",
       "      <td>2020-09-21</td>\n",
       "    </tr>\n",
       "    <tr>\n",
       "      <th>466</th>\n",
       "      <td>2020-39</td>\n",
       "      <td>-32.255530</td>\n",
       "      <td>['26', '27', '28']</td>\n",
       "      <td>A3 -  geschreddert</td>\n",
       "      <td>2020-09-28</td>\n",
       "    </tr>\n",
       "    <tr>\n",
       "      <th>467</th>\n",
       "      <td>2020-40</td>\n",
       "      <td>-28.939862</td>\n",
       "      <td>['26', '27', '28']</td>\n",
       "      <td>A3 -  geschreddert</td>\n",
       "      <td>2020-10-05</td>\n",
       "    </tr>\n",
       "    <tr>\n",
       "      <th>468</th>\n",
       "      <td>2020-41</td>\n",
       "      <td>-30.470931</td>\n",
       "      <td>['26', '27', '28']</td>\n",
       "      <td>A3 -  geschreddert</td>\n",
       "      <td>2020-10-12</td>\n",
       "    </tr>\n",
       "  </tbody>\n",
       "</table>\n",
       "</div>"
      ],
      "text/plain": [
       "        week     wPreis                 Plz                full       date\n",
       "464  2020-37 -28.311162  ['26', '27', '28']  A3 -  geschreddert 2020-09-14\n",
       "465  2020-38 -31.281060  ['26', '27', '28']  A3 -  geschreddert 2020-09-21\n",
       "466  2020-39 -32.255530  ['26', '27', '28']  A3 -  geschreddert 2020-09-28\n",
       "467  2020-40 -28.939862  ['26', '27', '28']  A3 -  geschreddert 2020-10-05\n",
       "468  2020-41 -30.470931  ['26', '27', '28']  A3 -  geschreddert 2020-10-12"
      ]
     },
     "execution_count": 90,
     "metadata": {},
     "output_type": "execute_result"
    }
   ],
   "source": [
    "TS4 = df[(df['Plz'] == \"['26', '27', '28']\") & (df['full'] == 'A3 -  geschreddert')]\n",
    "TS4.head()"
   ]
  },
  {
   "cell_type": "code",
   "execution_count": 91,
   "id": "c8560cdf-5797-4f01-86a6-e1d7e3d0b750",
   "metadata": {},
   "outputs": [
    {
     "name": "stdout",
     "output_type": "stream",
     "text": [
      "<class 'pandas.core.frame.DataFrame'>\n",
      "Index: 153 entries, 464 to 616\n",
      "Data columns (total 5 columns):\n",
      " #   Column  Non-Null Count  Dtype         \n",
      "---  ------  --------------  -----         \n",
      " 0   week    153 non-null    object        \n",
      " 1   wPreis  153 non-null    float64       \n",
      " 2   Plz     153 non-null    object        \n",
      " 3   full    153 non-null    object        \n",
      " 4   date    153 non-null    datetime64[ns]\n",
      "dtypes: datetime64[ns](1), float64(1), object(3)\n",
      "memory usage: 7.2+ KB\n"
     ]
    }
   ],
   "source": [
    "TS4.info()"
   ]
  }
 ],
 "metadata": {
  "kernelspec": {
   "display_name": "Python 3 (ipykernel)",
   "language": "python",
   "name": "python3"
  },
  "language_info": {
   "codemirror_mode": {
    "name": "ipython",
    "version": 3
   },
   "file_extension": ".py",
   "mimetype": "text/x-python",
   "name": "python",
   "nbconvert_exporter": "python",
   "pygments_lexer": "ipython3",
   "version": "3.10.6"
  }
 },
 "nbformat": 4,
 "nbformat_minor": 5
}
